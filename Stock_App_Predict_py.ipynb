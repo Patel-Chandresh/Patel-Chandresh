{
  "nbformat": 4,
  "nbformat_minor": 0,
  "metadata": {
    "colab": {
      "provenance": [],
      "authorship_tag": "ABX9TyPhsOKex6Wkd0ZdE8mTQqXI",
      "include_colab_link": true
    },
    "kernelspec": {
      "name": "python3",
      "display_name": "Python 3"
    },
    "language_info": {
      "name": "python"
    }
  },
  "cells": [
    {
      "cell_type": "markdown",
      "metadata": {
        "id": "view-in-github",
        "colab_type": "text"
      },
      "source": [
        "<a href=\"https://colab.research.google.com/github/Patel-Chandresh/Patel-Chandresh/blob/main/Stock_App_Predict_py.ipynb\" target=\"_parent\"><img src=\"https://colab.research.google.com/assets/colab-badge.svg\" alt=\"Open In Colab\"/></a>"
      ]
    },
    {
      "cell_type": "code",
      "execution_count": 11,
      "metadata": {
        "id": "slbXXETKwe31"
      },
      "outputs": [],
      "source": [
        "#!pip install streamlit\n",
        "import os\n",
        "import pickle\n",
        "import streamlit as st\n",
        "#from streamlit_option_menu import option_menu\n",
        "\n",
        "# Set page configuration\n",
        "st.set_page_config(page_title=\"Health Assistant\",\n",
        "                   layout=\"wide\",\n",
        "                   page_icon=\"🧑‍⚕️\")"
      ]
    },
    {
      "cell_type": "code",
      "source": [
        "\n",
        "import numpy as np\n",
        "import pandas as pd\n",
        "import matplotlib.pyplot as plt\n",
        "from pandas_datareader import data as wb\n",
        "import yfinance as yf\n",
        "from keras.models import load_model\n",
        "#import streamlit as st\n",
        "\n",
        "start_ = '2010-01-01'\n",
        "end_ = '2024-03-22'\n",
        "ticker_ = 'SBIN.NS'\n",
        "\n",
        "st.title('Stock Trend Prediction')\n",
        "#user_input = st.text_input(\"Enter Stock Ticker\", 'SBIN.NS')\n",
        "\n",
        "#df = data.DataReader('AAPL', 'yahoo', start, end)\n",
        "#df = wb.get_data_yahoo(user_input, start=start_, end=end_)\n",
        "\n",
        "#Describing Data\n",
        "st.subheader('Data from 2010 - 2024')\n",
        "#st.write(df.describe())\n",
        "\n",
        "#!streamlit run --server.port 80 your_script.py &>/dev/null&\n",
        "#!streamlit run --server.port 80 /usr/local/lib/python3.10/dist-packages/Stock_App_Predict.py &>/dev/null&"
      ],
      "metadata": {
        "id": "MOufc739w49o"
      },
      "execution_count": 10,
      "outputs": []
    },
    {
      "cell_type": "code",
      "source": [],
      "metadata": {
        "id": "dfsdGKK1x8is"
      },
      "execution_count": 9,
      "outputs": []
    },
    {
      "cell_type": "code",
      "source": [],
      "metadata": {
        "id": "qFoUGXWq1aBx"
      },
      "execution_count": null,
      "outputs": []
    }
  ]
}